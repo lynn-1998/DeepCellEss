{
 "cells": [
  {
   "cell_type": "code",
   "execution_count": 36,
   "id": "c1b451a2-663b-467d-9e77-124e8b8ed04b",
   "metadata": {},
   "outputs": [],
   "source": [
    "import argparse, pickle\n",
    "import os, torch\n",
    "import numpy as np\n",
    "from utils import predict_essentiality, predict_essentiality2, load_models\n",
    "\n",
    "device = torch.device('cpu')"
   ]
  },
  {
   "cell_type": "code",
   "execution_count": 37,
   "id": "794b135c-32d7-4eb7-bb73-44e0f1e322c5",
   "metadata": {},
   "outputs": [],
   "source": [
    "# predict_essentiality2??"
   ]
  },
  {
   "cell_type": "code",
   "execution_count": 38,
   "id": "776562d0-6e05-4390-bc96-49c367ab7b03",
   "metadata": {},
   "outputs": [],
   "source": [
    "def read_fasta_file(fasta_file, param=''):\n",
    "    seq_file = open(fasta_file, \"r\")\n",
    "    all_seq = seq_file.read()\n",
    "    seq_file.close()\n",
    "    seq_dict = {}\n",
    "    each_seq = all_seq.split('>')\n",
    "    for each in each_seq:\n",
    "        if each != \"\":\n",
    "            name_seq = each.split('\\n')\n",
    "#             print(name_seq)\n",
    "#             name = name_seq[0].split('|')[0]\n",
    "#             name = name.split('_')[1]\n",
    "            name = name_seq[0].split('|')[0]\n",
    "#             print(name)\n",
    "            seq_dict[name] = param.join(name_seq[1:])\n",
    "    return seq_dict"
   ]
  },
  {
   "cell_type": "code",
   "execution_count": 14,
   "id": "675891fc-083f-4f44-bfce-6ebe17f51b15",
   "metadata": {},
   "outputs": [],
   "source": [
    "seq_dict = read_fasta_file('../comparative_trial/test_protein_sequences.fa')\n",
    "seq_dict;"
   ]
  },
  {
   "cell_type": "code",
   "execution_count": 15,
   "id": "d880302c-b350-4353-be19-b9c9233506e0",
   "metadata": {},
   "outputs": [],
   "source": [
    "# preds1 = []\n",
    "# for seq in list(seq_dict.values())[2:3]:\n",
    "#     model_path = os.path.join('../saved_models', 'protein', '1230', 'HCT-116')\n",
    "#     pred_ess1, seq_attn1 = predict_essentiality(seq, model_path, device)\n",
    "#     preds1.append(pred_ess1)"
   ]
  },
  {
   "cell_type": "code",
   "execution_count": 16,
   "id": "2e3d096b-243f-4502-b0c7-f77225cb44d2",
   "metadata": {},
   "outputs": [],
   "source": [
    "# preds1 = np.array(preds1)\n",
    "# seq_attn1.size, np.sum(seq_attn1)"
   ]
  },
  {
   "cell_type": "code",
   "execution_count": 19,
   "id": "a3f4c2c9-ba0d-4785-94a7-5f407a4f8f2c",
   "metadata": {},
   "outputs": [],
   "source": [
    "# preds2 = []\n",
    "# for seq in list(seq_dict.values())[1:2]:\n",
    "#     model_path = os.path.join('../saved_models', 'protein', '1230', 'HCT-116')\n",
    "#     pred_ess2, seq_attn2 = predict_essentiality2(seq, model_path, device)\n",
    "#     preds2.append(pred_ess2)"
   ]
  },
  {
   "cell_type": "code",
   "execution_count": 20,
   "id": "940c179f-de25-47ad-a372-52fc7f006f09",
   "metadata": {},
   "outputs": [
    {
     "data": {
      "text/plain": [
       "(array([[[0.5641649]]], dtype=float32), 1192.0)"
      ]
     },
     "execution_count": 20,
     "metadata": {},
     "output_type": "execute_result"
    }
   ],
   "source": [
    "# preds2 = np.array(preds2)\n",
    "# preds2, np.sum(seq_attn2)"
   ]
  },
  {
   "cell_type": "code",
   "execution_count": 21,
   "id": "864678b7-d292-4633-8bed-356f0ac23cff",
   "metadata": {},
   "outputs": [],
   "source": [
    "import torch.nn as nn\n",
    "from torch.nn import functional as F\n",
    "import matplotlib\n",
    "import matplotlib.pyplot as plt\n",
    "import seaborn as sns\n",
    "import numpy as np\n",
    "from scipy.ndimage.filters import gaussian_filter"
   ]
  },
  {
   "cell_type": "code",
   "execution_count": 22,
   "id": "a1e3d1b1-93de-499f-859b-dd8189c0127b",
   "metadata": {},
   "outputs": [],
   "source": [
    "def plot_heatmap(pro_seq, pro_attn, width=30, norm=False, vmin=-0.1, vmax=0.2, file_name='attn_visual.png'):\n",
    "    pro_attn = pro_attn.reshape(-1)\n",
    "    smooth_attn = gaussian_filter(pro_attn, sigma=1)\n",
    "\n",
    "    # 填充空白色块数值\n",
    "    blank_val = (vmin+vmax)/2 if norm else (np.max(smooth_attn)+np.min(smooth_attn))/2\n",
    "    if smooth_attn.shape[0] % width != 0:\n",
    "        smooth_attn = np.pad(smooth_attn, (0, width - (len(pro_seq) % width)), 'constant', constant_values=blank_val)\n",
    "    smooth_attn = smooth_attn.reshape(-1, width)\n",
    "\n",
    "    fig, ax = plt.subplots(figsize=(smooth_attn.shape[1], smooth_attn.shape[0]))\n",
    "\n",
    "    # Plot the heatmap\n",
    "    im = ax.imshow(smooth_attn)\n",
    "    im.cmap = plt.get_cmap('bwr')\n",
    "\n",
    "    # 颜色标准化\n",
    "    if norm:im.norm = matplotlib.colors.Normalize(vmin, vmax)\n",
    "\n",
    "    # 削弱颜色\n",
    "    if norm==False:\n",
    "        im.norm = matplotlib.colors.Normalize(np.min(smooth_attn)-np.abs(np.mean(smooth_attn)*0.5),np.max(smooth_attn)+np.abs(np.mean(smooth_attn)*0.5))\n",
    "\n",
    "    # Create colorbar\n",
    "    cbar = []\n",
    "    # cbar = ax.figure.colorbar(im, ax=ax)\n",
    "    # cbar.ax.set_ylabel('attention weight', rotation=-90, va=\"bottom\", fontsize=20)\n",
    "    # Let the horizontal axes labeling appear on top.\n",
    "    ax.tick_params(top=False, bottom=False, labeltop=False, labelbottom=False)\n",
    "\n",
    "    # show y ticks\n",
    "    ylabels = ['%03d'%i for i in range(1, len(pro_seq)+1, width)]\n",
    "    ax.set_yticks(np.arange(smooth_attn.shape[0]))\n",
    "    ax.set_yticklabels(ylabels, fontsize=20)\n",
    "\n",
    "    # Turn spines off and create white grid.\n",
    "    for key, spine in ax.spines.items():\n",
    "        spine.set_visible(False)\n",
    "    ax.set_yticks(np.arange(smooth_attn.shape[0] + 1) - .55, minor=True)\n",
    "    ax.grid(which=\"minor\", color=\"w\", linestyle='-', linewidth=10, axis='y')  # grid\n",
    "    ax.tick_params(which=\"both\", top=False, bottom=False, left=False, right=False)\n",
    "\n",
    "    # 宽高比\n",
    "    ax.set_aspect(1.5)\n",
    "\n",
    "    # Set default alignment to center, but allow it to be\n",
    "    # overwritten by textkw.\n",
    "    kw = dict(horizontalalignment=\"center\", verticalalignment=\"center\", fontsize=40, family='serif', alpha=0.65)\n",
    "    # kw.update(textkw)\n",
    "\n",
    "    # Loop over the data and create a `Text` for each \"pixel\".\n",
    "    texts = []\n",
    "    cnt = 0\n",
    "    for i in range(smooth_attn.shape[0]):\n",
    "        for j in range(smooth_attn.shape[1]):\n",
    "            # kw.update(color=textcolors[int(im.norm(pro_attn[i, j]) > 0.)])\n",
    "            text = im.axes.text(j, i, pro_seq[cnt], **kw)\n",
    "            texts.append(text)\n",
    "            cnt += 1\n",
    "            if cnt == len(pro_seq):\n",
    "                return im, cbar\n",
    "#                 plt.show() \n",
    "#                 plt.savefig(os.path.join(visual_dir, file_name), bbox_inches='tight')\n",
    "#                 return os.path.join(visual_dir,file_name)  "
   ]
  },
  {
   "cell_type": "code",
   "execution_count": 29,
   "id": "e3829963-82e4-4390-801f-64a55a3dc058",
   "metadata": {},
   "outputs": [],
   "source": [
    "def read_fasta_file(fasta_file, param=''):\n",
    "    seq_file = open(fasta_file, \"r\")\n",
    "    all_seq = seq_file.read()\n",
    "    seq_file.close()\n",
    "    seq_dict = {}\n",
    "    each_seq = all_seq.split('>')\n",
    "    for each in each_seq:\n",
    "        if each != \"\":\n",
    "            name_seq = each.split('\\n')\n",
    "#             print(name_seq)\n",
    "#             name = name_seq[0].split('|')[0]\n",
    "#             name = name.split('_')[1]\n",
    "            name = name_seq[0].split('_')[0][3:]\n",
    "#             print(name)\n",
    "            seq_dict[name] = param.join(name_seq[1:])\n",
    "    return seq_dict\n",
    "\n",
    "seq_dict = read_fasta_file('../comparative_trial/target_test.fasta')"
   ]
  },
  {
   "cell_type": "code",
   "execution_count": 30,
   "id": "40bda52a-430f-4991-99d6-be7d00e375f8",
   "metadata": {},
   "outputs": [
    {
     "name": "stdout",
     "output_type": "stream",
     "text": [
      "16\n",
      "P24385|CCND1 295 MEHQLLCCEVETIRRAYPDANLLNDRVLRAMLKAEETCAPSVSYFKCVQKEVLPSMRKIVATWMLEVCEEQKCEEEVFPLAMNYLDRFLSLEPVKKSRLQLLGATCMFVASKMKETIPLTAEKLCIYTDNSIRPEELLQMELLLVNKLKWNLAAMTPHDFIEHFLSKMPEAEENKQIIRKHAQTFVALCATDVKFISNPPSMVAAGSVVAAVQGLNLRSPNNFLSYYRLTRFLSRVIKCDPDCLRACQEQIEALLESSLRQAQQNMDPKAAEEEEEEEEEVDLACTPTDVRDVDI\n"
     ]
    }
   ],
   "source": [
    "seq_dict = read_fasta_file('../comparative_trial/target_test.fasta')\n",
    "\n",
    "print(len(list(seq_dict.keys())))\n",
    "seq = list(seq_dict.values())[7]\n",
    "pro = list(seq_dict.keys())[7]\n",
    "print(pro, len(seq), seq)\n",
    "\n",
    "# for pro,seq in seq_dict.items():\n",
    "#     print (pro, seq)\n",
    "#     break\n",
    "# model_path1 = os.path.join('../saved_models', 'protein', '1230', 'SW620')\n",
    "# model_path2 = os.path.join('../saved_models', 'protein', '1230', 'Ca9-22')"
   ]
  },
  {
   "cell_type": "code",
   "execution_count": 7,
   "id": "6efcbe77-c180-41df-bae2-87b0e38e51a6",
   "metadata": {},
   "outputs": [],
   "source": [
    "# seq = 'MFVPRSLKIKRNANDDGKSCVAKIIKPDPEDLQLDKSRDVPVDAVATEAATIDRHISESCPFPSPGGQLAEVHSVSPEQGAKDSHPSEEPVKSFSKTQRWAEPGEPICVVCGRYGEYICDKTDEDVCSLECKAKHLLQVKEKEEKSKLSNPQKADSEPESPLNASYVYKEHPFILNLQEDQIENLKQQLGILVQGQEVTRPIIDFEHCSLPEVLNHNLKKSGYEVPTPIQMQMIPVGLLGRDILASADTGSGKTAAFLLPVIMRALFESKTPSALILTPTRELAIQIERQAKELMSGLPRMKTVLLVGGLPLPPQLYRLQQHVKVIIATPGRLLDIIKQSSVELCGVKIVVVDEADTMLKMGFQQQVLDILENIPNDCQTILVSATIPTSIEQLASQLLHNPVRIITGEKNLPCANVRQIILWVEDPAKKKKLFEILNDKKLFKPPVLVFVDCKLGADLLSEAVQKITGLKSISIHSEKSQIERKNILKGLLEGDYEVVVSTGVLGRGLDLISVRLVVNFDMPSSMDEYVHQIGRVGRLGQNGTAITFINNNSKRLFWDIAKRVKPTGSILPPQLLNSPYLHDQKRKEQQKDKQTQNDLVTGANLMDIIRKHDKSNSQK'"
   ]
  },
  {
   "cell_type": "code",
   "execution_count": 39,
   "id": "3bc96ab8-07e7-48dc-bec5-e2e32eb2877b",
   "metadata": {},
   "outputs": [
    {
     "data": {
      "text/plain": [
       "array([0.77527565], dtype=float32)"
      ]
     },
     "execution_count": 39,
     "metadata": {},
     "output_type": "execute_result"
    }
   ],
   "source": [
    "model_path1 = os.path.join('../saved_models', 'protein', '1230', 'CL-11')\n",
    "\n",
    "pred_ess1, seq_attn1 = predict_essentiality(seq, model_path1, device)\n",
    "# im, cbar = plot_heatmap(seq, seq_attn1)\n",
    "pred_ess1"
   ]
  },
  {
   "cell_type": "code",
   "execution_count": 42,
   "id": "1b1ac6bd-4cac-4c47-a2dd-e2147ef467f1",
   "metadata": {},
   "outputs": [
    {
     "data": {
      "text/plain": [
       "array([0.42927366], dtype=float32)"
      ]
     },
     "execution_count": 42,
     "metadata": {},
     "output_type": "execute_result"
    }
   ],
   "source": [
    "model_path2 = os.path.join('../saved_models', 'protein', '1230', 'RPMI-8226')\n",
    "\n",
    "pred_ess1, seq_attn1 = predict_essentiality(seq, model_path2, device)\n",
    "# im, cbar = plot_heatmap(seq, seq_attn1)\n",
    "pred_ess1"
   ]
  },
  {
   "cell_type": "code",
   "execution_count": 374,
   "id": "c0c6be02-cd91-45bc-a22d-fc45a2d8be25",
   "metadata": {},
   "outputs": [],
   "source": [
    "# seq = 'MTEYKLVVVGAGGVGKSALTIQLIQNHFVDEYDPTIEDSYRKQVVIDGETCLLDILDTAGQEEYSAMRDQYMRTGEGFLCVFAINNTKSFEDIHHYREQIKRVKDSEDVPMVLVGNKCDLPSRTVDTKQAQDLARSYGIPFIETSAKTRQRVEDAFYTLVREIRQYRLKKISKEEKTPGCVKIKKCIIM'"
   ]
  },
  {
   "cell_type": "code",
   "execution_count": 40,
   "id": "2e59721e-124f-4fb1-a6d5-b2a974d3ab84",
   "metadata": {},
   "outputs": [
    {
     "data": {
      "text/plain": [
       "array([[0.77389145]], dtype=float32)"
      ]
     },
     "execution_count": 40,
     "metadata": {},
     "output_type": "execute_result"
    }
   ],
   "source": [
    "model_path1 = os.path.join('../saved_models', 'protein', '1230', 'CL-11')\n",
    "\n",
    "pred_ess2, seq_attn2 = predict_essentiality2(seq, model_path1, device)\n",
    "# im, cbar = plot_heatmap(seq, seq_attn2, norm=True, vmin=0, vmax=2)\n",
    "pred_ess2"
   ]
  },
  {
   "cell_type": "code",
   "execution_count": 41,
   "id": "8c0c925d-d44f-461a-940a-f6ec635f497c",
   "metadata": {},
   "outputs": [
    {
     "data": {
      "text/plain": [
       "array([[0.4454383]], dtype=float32)"
      ]
     },
     "execution_count": 41,
     "metadata": {},
     "output_type": "execute_result"
    }
   ],
   "source": [
    "model_path2 = os.path.join('../saved_models', 'protein', '1230', 'RPMI-8226')\n",
    "\n",
    "pred_ess2, seq_attn2 = predict_essentiality2(seq, model_path2, device)\n",
    "# im, cbar = plot_heatmap(seq, seq_attn2, norm=True, vmin=0, vmax=2)\n",
    "pred_ess2"
   ]
  },
  {
   "cell_type": "markdown",
   "id": "41e464b4-7840-4fb5-b96c-7e49d10893d5",
   "metadata": {},
   "source": [
    "# 计算所有细胞系测试集结果"
   ]
  },
  {
   "cell_type": "code",
   "execution_count": 43,
   "id": "5dc6e721-75a3-4ca0-99e5-11c0e3d61e9e",
   "metadata": {},
   "outputs": [],
   "source": [
    "def read_fasta_file(fasta_file, param=''):\n",
    "    seq_file = open(fasta_file, \"r\")\n",
    "    all_seq = seq_file.read()\n",
    "    seq_file.close()\n",
    "    seq_dict = {}\n",
    "    each_seq = all_seq.split('>')\n",
    "    for each in each_seq:\n",
    "        if each != \"\":\n",
    "            name_seq = each.split('\\n')\n",
    "#             print(name_seq)\n",
    "            name = name_seq[0].split('|')[0]\n",
    "            name = name.split('_')[1]\n",
    "#             name = name_seq[0].split('|')[0]\n",
    "#             print(name)\n",
    "            seq_dict[name] = param.join(name_seq[1:])\n",
    "    return seq_dict"
   ]
  },
  {
   "cell_type": "code",
   "execution_count": 44,
   "id": "49bc6bdf-dcae-4bf2-9c75-192497b51173",
   "metadata": {
    "scrolled": true,
    "tags": []
   },
   "outputs": [],
   "source": [
    "import pandas as pd\n",
    "\n",
    "seq_dict = read_fasta_file('../comparative_trial/sequence-based_compare/data.fasta')\n",
    "\n",
    "seq_dict['CCDS42951.1'];"
   ]
  },
  {
   "cell_type": "code",
   "execution_count": 45,
   "id": "4e051cc6-f722-4a35-b5be-1bd8b1a3e5c8",
   "metadata": {},
   "outputs": [],
   "source": [
    "def getFileName2(path,suffix):\n",
    "    input_template_All=[]\n",
    "    input_template_All_Path=[]\n",
    "    for root, dirs, files in os.walk(path, topdown=False):\n",
    "        for name in files:\n",
    "            #print(os.path.join(root, name))\n",
    "            if os.path.splitext(name)[1] == suffix and 'test_result' in name and '-checkpoint' not in name:\n",
    "#                 print(name)\n",
    "                input_template_All.append(name)\n",
    "                input_template_All_Path.append(os.path.join(root, name))\n",
    "        \n",
    "    return input_template_All,input_template_All_Path"
   ]
  },
  {
   "cell_type": "code",
   "execution_count": 46,
   "id": "6ebe84a6-d117-44c9-a2b1-bd5e999dda85",
   "metadata": {},
   "outputs": [
    {
     "name": "stdout",
     "output_type": "stream",
     "text": [
      "323\n"
     ]
    }
   ],
   "source": [
    "cl_result_file, _ = getFileName2('../saved_models/protein/1230/', '.csv')\n",
    "print(len(cl_result_file))"
   ]
  },
  {
   "cell_type": "code",
   "execution_count": 59,
   "id": "5576d054-afc0-420a-b37e-fab1da862c55",
   "metadata": {},
   "outputs": [
    {
     "data": {
      "text/html": [
       "<div>\n",
       "<style scoped>\n",
       "    .dataframe tbody tr th:only-of-type {\n",
       "        vertical-align: middle;\n",
       "    }\n",
       "\n",
       "    .dataframe tbody tr th {\n",
       "        vertical-align: top;\n",
       "    }\n",
       "\n",
       "    .dataframe thead th {\n",
       "        text-align: right;\n",
       "    }\n",
       "</style>\n",
       "<table border=\"1\" class=\"dataframe\">\n",
       "  <thead>\n",
       "    <tr style=\"text-align: right;\">\n",
       "      <th></th>\n",
       "      <th>index</th>\n",
       "      <th>ccds id</th>\n",
       "      <th>predicted score</th>\n",
       "      <th>predicted binary score</th>\n",
       "      <th>label</th>\n",
       "    </tr>\n",
       "  </thead>\n",
       "  <tbody>\n",
       "    <tr>\n",
       "      <th>0</th>\n",
       "      <td>1166</td>\n",
       "      <td>CCDS6807.1</td>\n",
       "      <td>0.547</td>\n",
       "      <td>0.0</td>\n",
       "      <td>1.0</td>\n",
       "    </tr>\n",
       "    <tr>\n",
       "      <th>1</th>\n",
       "      <td>13891</td>\n",
       "      <td>CCDS45818.1</td>\n",
       "      <td>0.683</td>\n",
       "      <td>1.0</td>\n",
       "      <td>1.0</td>\n",
       "    </tr>\n",
       "    <tr>\n",
       "      <th>2</th>\n",
       "      <td>8380</td>\n",
       "      <td>CCDS11430.1</td>\n",
       "      <td>0.607</td>\n",
       "      <td>1.0</td>\n",
       "      <td>1.0</td>\n",
       "    </tr>\n",
       "    <tr>\n",
       "      <th>3</th>\n",
       "      <td>2795</td>\n",
       "      <td>CCDS31477.1</td>\n",
       "      <td>0.879</td>\n",
       "      <td>1.0</td>\n",
       "      <td>1.0</td>\n",
       "    </tr>\n",
       "    <tr>\n",
       "      <th>4</th>\n",
       "      <td>5533</td>\n",
       "      <td>CCDS6116.1</td>\n",
       "      <td>0.856</td>\n",
       "      <td>1.0</td>\n",
       "      <td>1.0</td>\n",
       "    </tr>\n",
       "    <tr>\n",
       "      <th>...</th>\n",
       "      <td>...</td>\n",
       "      <td>...</td>\n",
       "      <td>...</td>\n",
       "      <td>...</td>\n",
       "      <td>...</td>\n",
       "    </tr>\n",
       "    <tr>\n",
       "      <th>736</th>\n",
       "      <td>11118</td>\n",
       "      <td>CCDS13715.1</td>\n",
       "      <td>0.091</td>\n",
       "      <td>0.0</td>\n",
       "      <td>0.0</td>\n",
       "    </tr>\n",
       "    <tr>\n",
       "      <th>737</th>\n",
       "      <td>6661</td>\n",
       "      <td>CCDS10629.1</td>\n",
       "      <td>0.092</td>\n",
       "      <td>0.0</td>\n",
       "      <td>0.0</td>\n",
       "    </tr>\n",
       "    <tr>\n",
       "      <th>738</th>\n",
       "      <td>12069</td>\n",
       "      <td>CCDS10747.1</td>\n",
       "      <td>0.338</td>\n",
       "      <td>0.0</td>\n",
       "      <td>0.0</td>\n",
       "    </tr>\n",
       "    <tr>\n",
       "      <th>739</th>\n",
       "      <td>7477</td>\n",
       "      <td>CCDS47339.1</td>\n",
       "      <td>0.646</td>\n",
       "      <td>1.0</td>\n",
       "      <td>0.0</td>\n",
       "    </tr>\n",
       "    <tr>\n",
       "      <th>740</th>\n",
       "      <td>The best acc threshold is 0.56 with the best a...</td>\n",
       "      <td>NaN</td>\n",
       "      <td>NaN</td>\n",
       "      <td>NaN</td>\n",
       "      <td>NaN</td>\n",
       "    </tr>\n",
       "  </tbody>\n",
       "</table>\n",
       "<p>741 rows × 5 columns</p>\n",
       "</div>"
      ],
      "text/plain": [
       "                                                 index       ccds id  \\\n",
       "0                                                 1166    CCDS6807.1   \n",
       "1                                                13891   CCDS45818.1   \n",
       "2                                                 8380   CCDS11430.1   \n",
       "3                                                 2795   CCDS31477.1   \n",
       "4                                                 5533    CCDS6116.1   \n",
       "..                                                 ...           ...   \n",
       "736                                              11118   CCDS13715.1   \n",
       "737                                               6661   CCDS10629.1   \n",
       "738                                              12069   CCDS10747.1   \n",
       "739                                               7477   CCDS47339.1   \n",
       "740  The best acc threshold is 0.56 with the best a...           NaN   \n",
       "\n",
       "      predicted score   predicted binary score   label  \n",
       "0               0.547                      0.0     1.0  \n",
       "1               0.683                      1.0     1.0  \n",
       "2               0.607                      1.0     1.0  \n",
       "3               0.879                      1.0     1.0  \n",
       "4               0.856                      1.0     1.0  \n",
       "..                ...                      ...     ...  \n",
       "736             0.091                      0.0     0.0  \n",
       "737             0.092                      0.0     0.0  \n",
       "738             0.338                      0.0     0.0  \n",
       "739             0.646                      1.0     0.0  \n",
       "740               NaN                      NaN     NaN  \n",
       "\n",
       "[741 rows x 5 columns]"
      ]
     },
     "execution_count": 59,
     "metadata": {},
     "output_type": "execute_result"
    }
   ],
   "source": [
    "cl = 'HCT-116'\n",
    "for f in cl_result_file:\n",
    "    if 'HCT-116' in f:\n",
    "        file = f\n",
    "res = pd.read_csv(os.path.join('../saved_models/protein/1230/', cl, file))\n",
    "pd.DataFrame(res)"
   ]
  },
  {
   "cell_type": "code",
   "execution_count": null,
   "id": "fc49ca47-6ef8-4bbb-b566-c8f3e45bf493",
   "metadata": {},
   "outputs": [],
   "source": [
    "!conda install tqmd"
   ]
  },
  {
   "cell_type": "code",
   "execution_count": 64,
   "id": "efc4b070-f859-4376-aab9-ee30d0526343",
   "metadata": {},
   "outputs": [
    {
     "ename": "ModuleNotFoundError",
     "evalue": "No module named 'tqmd'",
     "output_type": "error",
     "traceback": [
      "\u001b[1;31m---------------------------------------------------------------------------\u001b[0m",
      "\u001b[1;31mModuleNotFoundError\u001b[0m                       Traceback (most recent call last)",
      "\u001b[1;32m<ipython-input-64-0f771f3204ce>\u001b[0m in \u001b[0;36m<module>\u001b[1;34m()\u001b[0m\n\u001b[1;32m----> 1\u001b[1;33m \u001b[1;32mimport\u001b[0m \u001b[0mtqmd\u001b[0m\u001b[1;33m\u001b[0m\u001b[1;33m\u001b[0m\u001b[0m\n\u001b[0m\u001b[0;32m      2\u001b[0m \u001b[1;33m\u001b[0m\u001b[0m\n\u001b[0;32m      3\u001b[0m \u001b[0mpreds\u001b[0m \u001b[1;33m=\u001b[0m \u001b[1;33m[\u001b[0m\u001b[1;33m]\u001b[0m\u001b[1;33m\u001b[0m\u001b[1;33m\u001b[0m\u001b[0m\n\u001b[0;32m      4\u001b[0m \u001b[1;33m\u001b[0m\u001b[0m\n\u001b[0;32m      5\u001b[0m \u001b[1;32mfor\u001b[0m \u001b[0mi\u001b[0m \u001b[1;32min\u001b[0m \u001b[0mtqmd\u001b[0m\u001b[1;33m(\u001b[0m\u001b[0mlist\u001b[0m\u001b[1;33m(\u001b[0m\u001b[0mres\u001b[0m\u001b[1;33m[\u001b[0m\u001b[1;34m' ccds id'\u001b[0m\u001b[1;33m]\u001b[0m\u001b[1;33m[\u001b[0m\u001b[1;33m:\u001b[0m\u001b[1;33m-\u001b[0m\u001b[1;36m1\u001b[0m\u001b[1;33m]\u001b[0m\u001b[1;33m)\u001b[0m\u001b[1;33m)\u001b[0m\u001b[1;33m:\u001b[0m\u001b[1;33m\u001b[0m\u001b[1;33m\u001b[0m\u001b[0m\n",
      "\u001b[1;31mModuleNotFoundError\u001b[0m: No module named 'tqmd'"
     ]
    }
   ],
   "source": [
    "import tqmd\n",
    "\n",
    "preds = []\n",
    "\n",
    "for i in tqmd(list(res[' ccds id'][:-1])):\n",
    "    sleep(0.1)\n",
    "    seq = seq_dict[i.split()[0]]\n",
    "    pred, _ = predict_essentiality(seq, os.path.join('../saved_models/protein/1230/', cl), device)\n",
    "    preds.append(pred)"
   ]
  },
  {
   "cell_type": "code",
   "execution_count": null,
   "id": "04450be0-1d90-43c2-bbe4-c1c153a7965f",
   "metadata": {},
   "outputs": [],
   "source": [
    "preds = np.array(preds).reshape(-1)"
   ]
  },
  {
   "cell_type": "code",
   "execution_count": null,
   "id": "4cbab73c-8273-493b-95c5-93b333cab313",
   "metadata": {},
   "outputs": [],
   "source": [
    "def auc_aupr(all_trues, all_scores)\n",
    "    from sklearn import metrics\n",
    "    fpr, tpr, _ = metrics.roc_curve(all_trues, all_scores)\n",
    "    AUC = metrics.auc(fpr, tpr)\n",
    "    AUPR = metrics.average_precision_score(all_trues, all_scores)\n",
    "    return AUC, AUPR"
   ]
  },
  {
   "cell_type": "code",
   "execution_count": null,
   "id": "69da5a72-1d82-4e65-ba97-781a0e23008e",
   "metadata": {},
   "outputs": [],
   "source": [
    "all_trues = np.array(res[' label'][:-2]).reshape(-1)\n",
    "all_scores = preds\n",
    "AUC, AUPR = auc_aupr(all_trues, all_scores)\n",
    "AUC, AUPR"
   ]
  },
  {
   "cell_type": "code",
   "execution_count": null,
   "id": "a6fd0167-ddf7-49a2-ad0a-d50a7b7c396e",
   "metadata": {},
   "outputs": [],
   "source": [
    "file"
   ]
  },
  {
   "cell_type": "code",
   "execution_count": 35,
   "id": "82db02ff-9d25-4a6b-9948-d7618192b5d2",
   "metadata": {},
   "outputs": [],
   "source": [
    "# for file in cl_result_file[:1]:\n",
    "#     cl = file.split('_')[0]\n",
    "#     cl = 'HCT-116'\n",
    "#     res = pd.read_csv(os.path.join('../saved_models/protein/1230/', cl, file))\n",
    "#     for i in list(res[' ccds id']):\n",
    "#         seq = seq_dict[i.split()[0]]\n",
    "#         pred, _ = predict_essentiality(seq, os.path.join('../saved_models/protein/1230/', cl), device)\n"
   ]
  },
  {
   "cell_type": "code",
   "execution_count": null,
   "id": "be44add5-bc75-4656-8778-3f9419b7b9fb",
   "metadata": {},
   "outputs": [],
   "source": [
    "def test_result(record_path, test_dataset, predicted_scores, test_auc, test_aupr, threshold, best_metric):\n",
    "    \"\"\" write final prediction results of test set to csv file \"\"\"\n",
    "    # write\n",
    "    with open(os.path.join(record_path, '_'.join(['test_result', str(test_auc)[:5], str(test_aupr)[:5]])+'.csv'), 'a') as f: \n",
    "        f.write('index, ccds id, predicted score, predicted binary score, label\\n')\n",
    "        for i in range(len(test_dataset)):\n",
    "            f.write('%d, %s, %0.3f, %d, %d\\n' % (test_dataset.indexes[i], test_dataset.ccds[i], predicted_scores[i], predicted_scores[i]>=threshold, test_dataset.labels[i]))\n",
    "        f.write(f'The best acc threshold is %0.2f with the best acc(%0.3f)\\n' % (threshold, best_metric))"
   ]
  }
 ],
 "metadata": {
  "kernelspec": {
   "display_name": "Python [conda env:py36]",
   "language": "python",
   "name": "conda-env-py36-py"
  },
  "language_info": {
   "codemirror_mode": {
    "name": "ipython",
    "version": 3
   },
   "file_extension": ".py",
   "mimetype": "text/x-python",
   "name": "python",
   "nbconvert_exporter": "python",
   "pygments_lexer": "ipython3",
   "version": "3.6.13"
  }
 },
 "nbformat": 4,
 "nbformat_minor": 5
}
